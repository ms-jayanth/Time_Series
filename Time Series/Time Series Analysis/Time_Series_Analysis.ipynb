{
 "cells": [
  {
   "cell_type": "markdown",
   "id": "1745d34f",
   "metadata": {},
   "source": [
    "## 1. Import Necessary Libraries"
   ]
  },
  {
   "cell_type": "code",
   "execution_count": 135,
   "id": "a0f622a0",
   "metadata": {},
   "outputs": [],
   "source": [
    "import pandas as pd\n",
    "from matplotlib import pyplot as plt\n",
    "import seaborn as sns\n",
    "\n",
    "import warnings\n",
    "warnings.filterwarnings('ignore')\n",
    "\n",
    "from statsmodels.graphics.tsaplots import plot_acf"
   ]
  },
  {
   "cell_type": "markdown",
   "id": "0e28cffd",
   "metadata": {},
   "source": [
    "## 2. Import Data "
   ]
  },
  {
   "cell_type": "code",
   "execution_count": 3,
   "id": "1146c101",
   "metadata": {},
   "outputs": [
    {
     "data": {
      "text/html": [
       "<div>\n",
       "<style scoped>\n",
       "    .dataframe tbody tr th:only-of-type {\n",
       "        vertical-align: middle;\n",
       "    }\n",
       "\n",
       "    .dataframe tbody tr th {\n",
       "        vertical-align: top;\n",
       "    }\n",
       "\n",
       "    .dataframe thead th {\n",
       "        text-align: right;\n",
       "    }\n",
       "</style>\n",
       "<table border=\"1\" class=\"dataframe\">\n",
       "  <thead>\n",
       "    <tr style=\"text-align: right;\">\n",
       "      <th></th>\n",
       "      <th>Date</th>\n",
       "      <th>Temp</th>\n",
       "    </tr>\n",
       "  </thead>\n",
       "  <tbody>\n",
       "    <tr>\n",
       "      <th>0</th>\n",
       "      <td>1981-01-01</td>\n",
       "      <td>20.7</td>\n",
       "    </tr>\n",
       "    <tr>\n",
       "      <th>1</th>\n",
       "      <td>1981-01-02</td>\n",
       "      <td>17.9</td>\n",
       "    </tr>\n",
       "    <tr>\n",
       "      <th>2</th>\n",
       "      <td>1981-01-03</td>\n",
       "      <td>18.8</td>\n",
       "    </tr>\n",
       "    <tr>\n",
       "      <th>3</th>\n",
       "      <td>1981-01-04</td>\n",
       "      <td>14.6</td>\n",
       "    </tr>\n",
       "    <tr>\n",
       "      <th>4</th>\n",
       "      <td>1981-01-05</td>\n",
       "      <td>15.8</td>\n",
       "    </tr>\n",
       "    <tr>\n",
       "      <th>...</th>\n",
       "      <td>...</td>\n",
       "      <td>...</td>\n",
       "    </tr>\n",
       "    <tr>\n",
       "      <th>3645</th>\n",
       "      <td>1990-12-27</td>\n",
       "      <td>14.0</td>\n",
       "    </tr>\n",
       "    <tr>\n",
       "      <th>3646</th>\n",
       "      <td>1990-12-28</td>\n",
       "      <td>13.6</td>\n",
       "    </tr>\n",
       "    <tr>\n",
       "      <th>3647</th>\n",
       "      <td>1990-12-29</td>\n",
       "      <td>13.5</td>\n",
       "    </tr>\n",
       "    <tr>\n",
       "      <th>3648</th>\n",
       "      <td>1990-12-30</td>\n",
       "      <td>15.7</td>\n",
       "    </tr>\n",
       "    <tr>\n",
       "      <th>3649</th>\n",
       "      <td>1990-12-31</td>\n",
       "      <td>13.0</td>\n",
       "    </tr>\n",
       "  </tbody>\n",
       "</table>\n",
       "<p>3650 rows × 2 columns</p>\n",
       "</div>"
      ],
      "text/plain": [
       "            Date  Temp\n",
       "0     1981-01-01  20.7\n",
       "1     1981-01-02  17.9\n",
       "2     1981-01-03  18.8\n",
       "3     1981-01-04  14.6\n",
       "4     1981-01-05  15.8\n",
       "...          ...   ...\n",
       "3645  1990-12-27  14.0\n",
       "3646  1990-12-28  13.6\n",
       "3647  1990-12-29  13.5\n",
       "3648  1990-12-30  15.7\n",
       "3649  1990-12-31  13.0\n",
       "\n",
       "[3650 rows x 2 columns]"
      ]
     },
     "execution_count": 3,
     "metadata": {},
     "output_type": "execute_result"
    }
   ],
   "source": [
    "daily_temp=pd.read_csv('daily-minimum-temperatures.csv')\n",
    "daily_temp"
   ]
  },
  {
   "cell_type": "markdown",
   "id": "4327367e",
   "metadata": {},
   "source": [
    "## 3. Data Understanding"
   ]
  },
  {
   "cell_type": "markdown",
   "id": "3848ffc3",
   "metadata": {},
   "source": [
    "### 3.1 Initial Analysis"
   ]
  },
  {
   "cell_type": "code",
   "execution_count": 4,
   "id": "06d2f084",
   "metadata": {},
   "outputs": [
    {
     "data": {
      "text/plain": [
       "(3650, 2)"
      ]
     },
     "execution_count": 4,
     "metadata": {},
     "output_type": "execute_result"
    }
   ],
   "source": [
    "daily_temp.shape"
   ]
  },
  {
   "cell_type": "code",
   "execution_count": 5,
   "id": "12cb4838",
   "metadata": {},
   "outputs": [
    {
     "data": {
      "text/plain": [
       "Date    0\n",
       "Temp    0\n",
       "dtype: int64"
      ]
     },
     "execution_count": 5,
     "metadata": {},
     "output_type": "execute_result"
    }
   ],
   "source": [
    "daily_temp.isna().sum()"
   ]
  },
  {
   "cell_type": "code",
   "execution_count": 6,
   "id": "453ce356",
   "metadata": {},
   "outputs": [
    {
     "data": {
      "text/plain": [
       "Date     object\n",
       "Temp    float64\n",
       "dtype: object"
      ]
     },
     "execution_count": 6,
     "metadata": {},
     "output_type": "execute_result"
    }
   ],
   "source": [
    "daily_temp.dtypes"
   ]
  },
  {
   "cell_type": "markdown",
   "id": "a3ab40f2",
   "metadata": {},
   "source": [
    "### 3.2 Data Visualization/ EDA"
   ]
  },
  {
   "cell_type": "code",
   "execution_count": 9,
   "id": "ebd34ff4",
   "metadata": {},
   "outputs": [
    {
     "data": {
      "image/png": "[encoded data removed]",
      "text/plain": [
       "<Figure size 432x288 with 1 Axes>"
      ]
     },
     "metadata": {
      "needs_background": "light"
     },
     "output_type": "display_data"
    }
   ],
   "source": [
    "plt.plot(daily_temp['Date'], daily_temp['Temp'])\n",
    "plt.show()"
   ]
  },
  {
   "cell_type": "markdown",
   "id": "0ede4312",
   "metadata": {},
   "source": [
    "### To display this chart in a better way so that we  can get the dates in X_axis, do the following"
   ]
  },
  {
   "cell_type": "code",
   "execution_count": 12,
   "id": "1d0abc06",
   "metadata": {},
   "outputs": [
    {
     "data": {
      "text/html": [
       "<div>\n",
       "<style scoped>\n",
       "    .dataframe tbody tr th:only-of-type {\n",
       "        vertical-align: middle;\n",
       "    }\n",
       "\n",
       "    .dataframe tbody tr th {\n",
       "        vertical-align: top;\n",
       "    }\n",
       "\n",
       "    .dataframe thead th {\n",
       "        text-align: right;\n",
       "    }\n",
       "</style>\n",
       "<table border=\"1\" class=\"dataframe\">\n",
       "  <thead>\n",
       "    <tr style=\"text-align: right;\">\n",
       "      <th></th>\n",
       "      <th>Temp</th>\n",
       "    </tr>\n",
       "    <tr>\n",
       "      <th>Date</th>\n",
       "      <th></th>\n",
       "    </tr>\n",
       "  </thead>\n",
       "  <tbody>\n",
       "    <tr>\n",
       "      <th>1981-01-01</th>\n",
       "      <td>20.7</td>\n",
       "    </tr>\n",
       "    <tr>\n",
       "      <th>1981-01-02</th>\n",
       "      <td>17.9</td>\n",
       "    </tr>\n",
       "    <tr>\n",
       "      <th>1981-01-03</th>\n",
       "      <td>18.8</td>\n",
       "    </tr>\n",
       "    <tr>\n",
       "      <th>1981-01-04</th>\n",
       "      <td>14.6</td>\n",
       "    </tr>\n",
       "    <tr>\n",
       "      <th>1981-01-05</th>\n",
       "      <td>15.8</td>\n",
       "    </tr>\n",
       "    <tr>\n",
       "      <th>...</th>\n",
       "      <td>...</td>\n",
       "    </tr>\n",
       "    <tr>\n",
       "      <th>1990-12-27</th>\n",
       "      <td>14.0</td>\n",
       "    </tr>\n",
       "    <tr>\n",
       "      <th>1990-12-28</th>\n",
       "      <td>13.6</td>\n",
       "    </tr>\n",
       "    <tr>\n",
       "      <th>1990-12-29</th>\n",
       "      <td>13.5</td>\n",
       "    </tr>\n",
       "    <tr>\n",
       "      <th>1990-12-30</th>\n",
       "      <td>15.7</td>\n",
       "    </tr>\n",
       "    <tr>\n",
       "      <th>1990-12-31</th>\n",
       "      <td>13.0</td>\n",
       "    </tr>\n",
       "  </tbody>\n",
       "</table>\n",
       "<p>3650 rows × 1 columns</p>\n",
       "</div>"
      ],
      "text/plain": [
       "            Temp\n",
       "Date            \n",
       "1981-01-01  20.7\n",
       "1981-01-02  17.9\n",
       "1981-01-03  18.8\n",
       "1981-01-04  14.6\n",
       "1981-01-05  15.8\n",
       "...          ...\n",
       "1990-12-27  14.0\n",
       "1990-12-28  13.6\n",
       "1990-12-29  13.5\n",
       "1990-12-30  15.7\n",
       "1990-12-31  13.0\n",
       "\n",
       "[3650 rows x 1 columns]"
      ]
     },
     "execution_count": 12,
     "metadata": {},
     "output_type": "execute_result"
    }
   ],
   "source": [
    "temp_data=pd.read_csv('daily-minimum-temperatures.csv', index_col=0, parse_dates=True)\n",
    "temp_data"
   ]
  },
  {
   "cell_type": "code",
   "execution_count": 18,
   "id": "45d40c9b",
   "metadata": {},
   "outputs": [
    {
     "data": {
      "image/png": "[encoded data removed]",
      "text/plain": [
       "<Figure size 1008x432 with 1 Axes>"
      ]
     },
     "metadata": {
      "needs_background": "light"
     },
     "output_type": "display_data"
    }
   ],
   "source": [
    "plt.figure(figsize=(14,6))\n",
    "plt.plot(temp_data['Temp'])\n",
    "plt.xlabel('Year')\n",
    "plt.ylabel('Temparature')\n",
    "plt.title('Year-wise Temparature between 1981-1990', size=20)\n",
    "plt.show()"
   ]
  },
  {
   "cell_type": "markdown",
   "id": "d4c116ef",
   "metadata": {},
   "source": [
    "Additive seasonality with constant trend"
   ]
  },
  {
   "cell_type": "code",
   "execution_count": 22,
   "id": "7ac7b264",
   "metadata": {},
   "outputs": [
    {
     "data": {
      "image/png": "[encoded data removed]",
      "text/plain": [
       "<Figure size 432x288 with 1 Axes>"
      ]
     },
     "metadata": {
      "needs_background": "light"
     },
     "output_type": "display_data"
    }
   ],
   "source": [
    "sns.distplot(a=temp_data['Temp'], hist=False)\n",
    "plt.title('Temparature Distribution')\n",
    "plt.show()"
   ]
  },
  {
   "cell_type": "markdown",
   "id": "c916c35a",
   "metadata": {},
   "source": [
    "### Year-wise and Month-wise Temparature Fluctuations/ Distributions"
   ]
  },
  {
   "cell_type": "code",
   "execution_count": 24,
   "id": "2390ba3d",
   "metadata": {},
   "outputs": [
    {
     "data": {
      "text/html": [
       "<div>\n",
       "<style scoped>\n",
       "    .dataframe tbody tr th:only-of-type {\n",
       "        vertical-align: middle;\n",
       "    }\n",
       "\n",
       "    .dataframe tbody tr th {\n",
       "        vertical-align: top;\n",
       "    }\n",
       "\n",
       "    .dataframe thead th {\n",
       "        text-align: right;\n",
       "    }\n",
       "</style>\n",
       "<table border=\"1\" class=\"dataframe\">\n",
       "  <thead>\n",
       "    <tr style=\"text-align: right;\">\n",
       "      <th></th>\n",
       "      <th>Temp</th>\n",
       "    </tr>\n",
       "    <tr>\n",
       "      <th>Date</th>\n",
       "      <th></th>\n",
       "    </tr>\n",
       "  </thead>\n",
       "  <tbody>\n",
       "    <tr>\n",
       "      <th>1981-01-01</th>\n",
       "      <td>20.7</td>\n",
       "    </tr>\n",
       "    <tr>\n",
       "      <th>1981-01-02</th>\n",
       "      <td>17.9</td>\n",
       "    </tr>\n",
       "    <tr>\n",
       "      <th>1981-01-03</th>\n",
       "      <td>18.8</td>\n",
       "    </tr>\n",
       "    <tr>\n",
       "      <th>1981-01-04</th>\n",
       "      <td>14.6</td>\n",
       "    </tr>\n",
       "    <tr>\n",
       "      <th>1981-01-05</th>\n",
       "      <td>15.8</td>\n",
       "    </tr>\n",
       "    <tr>\n",
       "      <th>1981-01-06</th>\n",
       "      <td>15.8</td>\n",
       "    </tr>\n",
       "    <tr>\n",
       "      <th>1981-01-07</th>\n",
       "      <td>15.8</td>\n",
       "    </tr>\n",
       "    <tr>\n",
       "      <th>1981-01-08</th>\n",
       "      <td>17.4</td>\n",
       "    </tr>\n",
       "    <tr>\n",
       "      <th>1981-01-09</th>\n",
       "      <td>21.8</td>\n",
       "    </tr>\n",
       "    <tr>\n",
       "      <th>1981-01-10</th>\n",
       "      <td>20.0</td>\n",
       "    </tr>\n",
       "  </tbody>\n",
       "</table>\n",
       "</div>"
      ],
      "text/plain": [
       "            Temp\n",
       "Date            \n",
       "1981-01-01  20.7\n",
       "1981-01-02  17.9\n",
       "1981-01-03  18.8\n",
       "1981-01-04  14.6\n",
       "1981-01-05  15.8\n",
       "1981-01-06  15.8\n",
       "1981-01-07  15.8\n",
       "1981-01-08  17.4\n",
       "1981-01-09  21.8\n",
       "1981-01-10  20.0"
      ]
     },
     "execution_count": 24,
     "metadata": {},
     "output_type": "execute_result"
    }
   ],
   "source": [
    "temp_data.head(10)"
   ]
  },
  {
   "cell_type": "code",
   "execution_count": 23,
   "id": "2acb272f",
   "metadata": {},
   "outputs": [
    {
     "data": {
      "image/png": "[encoded data removed]",
      "text/plain": [
       "<Figure size 432x288 with 1 Axes>"
      ]
     },
     "metadata": {
      "needs_background": "light"
     },
     "output_type": "display_data"
    }
   ],
   "source": [
    "plt.boxplot(x='Temp', data=temp_data)\n",
    "plt.show()"
   ]
  },
  {
   "cell_type": "code",
   "execution_count": 27,
   "id": "f7ac5a22",
   "metadata": {},
   "outputs": [
    {
     "data": {
      "text/plain": [
       "Date\n",
       "1981-01-01    20.7\n",
       "1981-01-02    17.9\n",
       "1981-01-03    18.8\n",
       "1981-01-04    14.6\n",
       "1981-01-05    15.8\n",
       "              ... \n",
       "1990-12-27    14.0\n",
       "1990-12-28    13.6\n",
       "1990-12-29    13.5\n",
       "1990-12-30    15.7\n",
       "1990-12-31    13.0\n",
       "Name: Temp, Length: 3650, dtype: float64"
      ]
     },
     "execution_count": 27,
     "metadata": {},
     "output_type": "execute_result"
    }
   ],
   "source": [
    "#squeeze: If the parsed data only contains one column then return a Series.\n",
    "temp_data_squeezed=pd.read_csv('daily-minimum-temperatures.csv', index_col=0, parse_dates=True, squeeze=True)\n",
    "temp_data_squeezed"
   ]
  },
  {
   "cell_type": "code",
   "execution_count": 127,
   "id": "43a0d676",
   "metadata": {},
   "outputs": [
    {
     "data": {
      "text/html": [
       "<div>\n",
       "<style scoped>\n",
       "    .dataframe tbody tr th:only-of-type {\n",
       "        vertical-align: middle;\n",
       "    }\n",
       "\n",
       "    .dataframe tbody tr th {\n",
       "        vertical-align: top;\n",
       "    }\n",
       "\n",
       "    .dataframe thead th {\n",
       "        text-align: right;\n",
       "    }\n",
       "</style>\n",
       "<table border=\"1\" class=\"dataframe\">\n",
       "  <thead>\n",
       "    <tr style=\"text-align: right;\">\n",
       "      <th></th>\n",
       "      <th>1981</th>\n",
       "      <th>1982</th>\n",
       "      <th>1983</th>\n",
       "      <th>1984</th>\n",
       "      <th>1985</th>\n",
       "      <th>1986</th>\n",
       "      <th>1987</th>\n",
       "      <th>1988</th>\n",
       "      <th>1989</th>\n",
       "      <th>1990</th>\n",
       "    </tr>\n",
       "  </thead>\n",
       "  <tbody>\n",
       "    <tr>\n",
       "      <th>0</th>\n",
       "      <td>20.7</td>\n",
       "      <td>17.0</td>\n",
       "      <td>18.4</td>\n",
       "      <td>19.5</td>\n",
       "      <td>13.3</td>\n",
       "      <td>12.9</td>\n",
       "      <td>12.3</td>\n",
       "      <td>15.3</td>\n",
       "      <td>14.3</td>\n",
       "      <td>14.8</td>\n",
       "    </tr>\n",
       "    <tr>\n",
       "      <th>1</th>\n",
       "      <td>17.9</td>\n",
       "      <td>15.0</td>\n",
       "      <td>15.0</td>\n",
       "      <td>17.1</td>\n",
       "      <td>15.2</td>\n",
       "      <td>13.8</td>\n",
       "      <td>13.8</td>\n",
       "      <td>14.3</td>\n",
       "      <td>17.4</td>\n",
       "      <td>13.3</td>\n",
       "    </tr>\n",
       "    <tr>\n",
       "      <th>2</th>\n",
       "      <td>18.8</td>\n",
       "      <td>13.5</td>\n",
       "      <td>10.9</td>\n",
       "      <td>17.1</td>\n",
       "      <td>13.1</td>\n",
       "      <td>10.6</td>\n",
       "      <td>15.3</td>\n",
       "      <td>13.5</td>\n",
       "      <td>18.5</td>\n",
       "      <td>15.6</td>\n",
       "    </tr>\n",
       "    <tr>\n",
       "      <th>3</th>\n",
       "      <td>14.6</td>\n",
       "      <td>15.2</td>\n",
       "      <td>11.4</td>\n",
       "      <td>12.0</td>\n",
       "      <td>12.7</td>\n",
       "      <td>12.6</td>\n",
       "      <td>15.6</td>\n",
       "      <td>15.0</td>\n",
       "      <td>16.8</td>\n",
       "      <td>14.5</td>\n",
       "    </tr>\n",
       "    <tr>\n",
       "      <th>4</th>\n",
       "      <td>15.8</td>\n",
       "      <td>13.0</td>\n",
       "      <td>14.8</td>\n",
       "      <td>11.0</td>\n",
       "      <td>14.6</td>\n",
       "      <td>13.7</td>\n",
       "      <td>16.2</td>\n",
       "      <td>13.6</td>\n",
       "      <td>11.5</td>\n",
       "      <td>14.3</td>\n",
       "    </tr>\n",
       "    <tr>\n",
       "      <th>...</th>\n",
       "      <td>...</td>\n",
       "      <td>...</td>\n",
       "      <td>...</td>\n",
       "      <td>...</td>\n",
       "      <td>...</td>\n",
       "      <td>...</td>\n",
       "      <td>...</td>\n",
       "      <td>...</td>\n",
       "      <td>...</td>\n",
       "      <td>...</td>\n",
       "    </tr>\n",
       "    <tr>\n",
       "      <th>360</th>\n",
       "      <td>15.5</td>\n",
       "      <td>15.3</td>\n",
       "      <td>13.9</td>\n",
       "      <td>12.2</td>\n",
       "      <td>11.5</td>\n",
       "      <td>14.6</td>\n",
       "      <td>16.2</td>\n",
       "      <td>9.5</td>\n",
       "      <td>13.3</td>\n",
       "      <td>14.0</td>\n",
       "    </tr>\n",
       "    <tr>\n",
       "      <th>361</th>\n",
       "      <td>13.3</td>\n",
       "      <td>16.3</td>\n",
       "      <td>11.1</td>\n",
       "      <td>12.0</td>\n",
       "      <td>10.8</td>\n",
       "      <td>14.2</td>\n",
       "      <td>14.2</td>\n",
       "      <td>12.9</td>\n",
       "      <td>11.7</td>\n",
       "      <td>13.6</td>\n",
       "    </tr>\n",
       "    <tr>\n",
       "      <th>362</th>\n",
       "      <td>15.6</td>\n",
       "      <td>15.8</td>\n",
       "      <td>16.1</td>\n",
       "      <td>12.6</td>\n",
       "      <td>12.0</td>\n",
       "      <td>13.2</td>\n",
       "      <td>14.3</td>\n",
       "      <td>12.9</td>\n",
       "      <td>10.4</td>\n",
       "      <td>13.5</td>\n",
       "    </tr>\n",
       "    <tr>\n",
       "      <th>363</th>\n",
       "      <td>15.2</td>\n",
       "      <td>17.7</td>\n",
       "      <td>20.4</td>\n",
       "      <td>16.0</td>\n",
       "      <td>16.3</td>\n",
       "      <td>11.7</td>\n",
       "      <td>13.3</td>\n",
       "      <td>14.8</td>\n",
       "      <td>14.4</td>\n",
       "      <td>15.7</td>\n",
       "    </tr>\n",
       "    <tr>\n",
       "      <th>364</th>\n",
       "      <td>17.4</td>\n",
       "      <td>16.3</td>\n",
       "      <td>18.0</td>\n",
       "      <td>16.4</td>\n",
       "      <td>14.4</td>\n",
       "      <td>17.2</td>\n",
       "      <td>16.7</td>\n",
       "      <td>14.1</td>\n",
       "      <td>12.7</td>\n",
       "      <td>13.0</td>\n",
       "    </tr>\n",
       "  </tbody>\n",
       "</table>\n",
       "<p>365 rows × 10 columns</p>\n",
       "</div>"
      ],
      "text/plain": [
       "     1981  1982  1983  1984  1985  1986  1987  1988  1989  1990\n",
       "0    20.7  17.0  18.4  19.5  13.3  12.9  12.3  15.3  14.3  14.8\n",
       "1    17.9  15.0  15.0  17.1  15.2  13.8  13.8  14.3  17.4  13.3\n",
       "2    18.8  13.5  10.9  17.1  13.1  10.6  15.3  13.5  18.5  15.6\n",
       "3    14.6  15.2  11.4  12.0  12.7  12.6  15.6  15.0  16.8  14.5\n",
       "4    15.8  13.0  14.8  11.0  14.6  13.7  16.2  13.6  11.5  14.3\n",
       "..    ...   ...   ...   ...   ...   ...   ...   ...   ...   ...\n",
       "360  15.5  15.3  13.9  12.2  11.5  14.6  16.2   9.5  13.3  14.0\n",
       "361  13.3  16.3  11.1  12.0  10.8  14.2  14.2  12.9  11.7  13.6\n",
       "362  15.6  15.8  16.1  12.6  12.0  13.2  14.3  12.9  10.4  13.5\n",
       "363  15.2  17.7  20.4  16.0  16.3  11.7  13.3  14.8  14.4  15.7\n",
       "364  17.4  16.3  18.0  16.4  14.4  17.2  16.7  14.1  12.7  13.0\n",
       "\n",
       "[365 rows x 10 columns]"
      ]
     },
     "execution_count": 127,
     "metadata": {},
     "output_type": "execute_result"
    }
   ],
   "source": [
    "groups=temp_data_squeezed.groupby(pd.Grouper(freq='A'))\n",
    "years=pd.DataFrame()\n",
    "\n",
    "for name, group in groups:\n",
    "    #print(name.year)\n",
    "    #print(group.values)\n",
    "    years[name.year]=group.values\n",
    "\n",
    "years"
   ]
  },
  {
   "cell_type": "code",
   "execution_count": 58,
   "id": "b9726aab",
   "metadata": {},
   "outputs": [
    {
     "data": {
      "image/png": "[encoded data removed]",
      "text/plain": [
       "<Figure size 432x288 with 1 Axes>"
      ]
     },
     "metadata": {
      "needs_background": "light"
     },
     "output_type": "display_data"
    }
   ],
   "source": [
    "years.boxplot()\n",
    "plt.title('Year-wise Temparature Fluctuation')\n",
    "plt.show()"
   ]
  },
  {
   "cell_type": "code",
   "execution_count": 133,
   "id": "1dfbbd31",
   "metadata": {},
   "outputs": [],
   "source": [
    "\n",
    "#month_data=temp_data_squeezed.groupby(pd.Grouper(freq='m'))\n",
    "#years=pd.DataFrame()\n",
    "\n",
    "#for name, group in month_data:\n",
    "    #print(name.year)\n",
    "    #print(group.values.sum())\n",
    "    #years[name.year]=group.values.mean()\n",
    "    \n",
    "\n",
    "#years"
   ]
  },
  {
   "cell_type": "markdown",
   "id": "d0df1bfc",
   "metadata": {},
   "source": [
    "### Lag Plot\n",
    "\n",
    "In order to know whether the temparature are impacting by its previous day"
   ]
  },
  {
   "cell_type": "code",
   "execution_count": 134,
   "id": "4b7687ab",
   "metadata": {},
   "outputs": [
    {
     "data": {
      "image/png": "[encoded data removed]",
      "text/plain": [
       "<Figure size 432x288 with 1 Axes>"
      ]
     },
     "metadata": {
      "needs_background": "light"
     },
     "output_type": "display_data"
    }
   ],
   "source": [
    "pd.plotting.lag_plot(temp_data)\n",
    "plt.show()"
   ]
  },
  {
   "cell_type": "markdown",
   "id": "46429be9",
   "metadata": {},
   "source": [
    "It is positively correlated and can be modelled"
   ]
  },
  {
   "cell_type": "code",
   "execution_count": 138,
   "id": "70494b1d",
   "metadata": {},
   "outputs": [
    {
     "data": {
      "image/png": "[encoded data removed]",
      "text/plain": [
       "<Figure size 432x288 with 1 Axes>"
      ]
     },
     "metadata": {
      "needs_background": "light"
     },
     "output_type": "display_data"
    }
   ],
   "source": [
    "plot_acf(temp_data, lags=70) \n",
    "plt.show()"
   ]
  },
  {
   "cell_type": "markdown",
   "id": "299bc456",
   "metadata": {},
   "source": [
    "Our first day temparature is contributing till 70th day temparature"
   ]
  }
 ],
 "metadata": {
  "kernelspec": {
   "display_name": "Python 3",
   "language": "python",
   "name": "python3"
  },
  "language_info": {
   "codemirror_mode": {
    "name": "ipython",
    "version": 3
   },
   "file_extension": ".py",
   "mimetype": "text/x-python",
   "name": "python",
   "nbconvert_exporter": "python",
   "pygments_lexer": "ipython3",
   "version": "3.8.8"
  }
 },
 "nbformat": 4,
 "nbformat_minor": 5
}
